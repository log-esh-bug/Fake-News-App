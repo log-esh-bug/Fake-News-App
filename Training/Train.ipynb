{
  "cells": [
    {
      "cell_type": "markdown",
      "metadata": {
        "id": "view-in-github",
        "colab_type": "text"
      },
      "source": [
        "<a href=\"https://colab.research.google.com/github/log-esh-bug/fake_news_detector/blob/main/scraped_fake.ipynb\" target=\"_parent\"><img src=\"https://colab.research.google.com/assets/colab-badge.svg\" alt=\"Open In Colab\"/></a>"
      ]
    },
    {
      "cell_type": "code",
      "execution_count": null,
      "metadata": {
        "colab": {
          "base_uri": "https://localhost:8080/"
        },
        "id": "6TvJLB8RiOeo",
        "outputId": "5579243c-c451-4ced-a79e-e6659c41c03f"
      },
      "outputs": [
        {
          "name": "stdout",
          "output_type": "stream",
          "text": [
            "                                                text date\n",
            "0  ost large reci- pients of funding via    elect...  NaN\n",
            "1  2 held in Gujarat for violence at university b...  NaN\n",
            "2  (ED), the Central Bureau of Investigation (CBI...  NaN\n",
            "3  Former U.S. President Do- nald Trump claimed t...  NaN\n",
            "4  Donald Trump to deliver a profanity-filled ver...  NaN\n",
            "                                               title  \\\n",
            "0   Donald Trump Sends Out Embarrassing New Year’...   \n",
            "1   Drunk Bragging Trump Staffer Started Russian ...   \n",
            "2   Sheriff David Clarke Becomes An Internet Joke...   \n",
            "3   Trump Is So Obsessed He Even Has Obama’s Name...   \n",
            "4   Pope Francis Just Called Out Donald Trump Dur...   \n",
            "\n",
            "                                                text subject  \\\n",
            "0  Donald Trump just couldn t wish all Americans ...    News   \n",
            "1  House Intelligence Committee Chairman Devin Nu...    News   \n",
            "2  On Friday, it was revealed that former Milwauk...    News   \n",
            "3  On Christmas day, Donald Trump announced that ...    News   \n",
            "4  Pope Francis used his annual Christmas Day mes...    News   \n",
            "\n",
            "                date  \n",
            "0  December 31, 2017  \n",
            "1  December 31, 2017  \n",
            "2  December 30, 2017  \n",
            "3  December 29, 2017  \n",
            "4  December 25, 2017  \n"
          ]
        }
      ],
      "source": [
        "#1 sec\n",
        "import pandas as pd\n",
        "#importing the csv files\n",
        "real_news = pd.read_csv('/content/scrapedfin1.csv')\n",
        "fake_news = pd.read_csv('/content/Fake.csv', delimiter=',', quotechar='\"', encoding='utf-8')\n",
        "\n",
        "\n",
        "# dataframe\n",
        "print(real_news.head())\n",
        "print(fake_news.head())"
      ]
    },
    {
      "cell_type": "code",
      "execution_count": null,
      "metadata": {
        "colab": {
          "base_uri": "https://localhost:8080/",
          "height": 680
        },
        "id": "nOKo-IJHisby",
        "outputId": "eebe300f-d9ec-4dec-a262-336e25ed2feb"
      },
      "outputs": [
        {
          "data": {
            "image/png": "[encoded data removed]",
            "text/plain": [
              "<Figure size 640x480 with 1 Axes>"
            ]
          },
          "metadata": {},
          "output_type": "display_data"
        },
        {
          "name": "stdout",
          "output_type": "stream",
          "text": [
            "0        747\n",
            "1       1477\n",
            "2        751\n",
            "3        327\n",
            "4        773\n",
            "        ... \n",
            "1267    1124\n",
            "1268     986\n",
            "1269    1017\n",
            "1270     840\n",
            "1271    1025\n",
            "Name: text, Length: 1272, dtype: int64\n"
          ]
        }
      ],
      "source": [
        "#1 sec\n",
        "import matplotlib.pyplot as plt\n",
        "\n",
        "real_lengths = real_news['text'].apply(len)\n",
        "fake_lengths = fake_news['text'].apply(len)\n",
        "\n",
        "plt.hist(real_lengths, bins=50, alpha=0.5, label='Real')\n",
        "plt.hist(fake_lengths, bins=50, alpha=0.5, label='Fake')\n",
        "plt.title('Article Lengths')\n",
        "plt.xlabel('Length')\n",
        "plt.ylabel('Count')\n",
        "plt.legend()\n",
        "plt.show()\n",
        "print(real_lengths)"
      ]
    },
    {
      "cell_type": "code",
      "execution_count": null,
      "metadata": {
        "colab": {
          "base_uri": "https://localhost:8080/"
        },
        "id": "VLqH6zY1lg9X",
        "outputId": "baf2bcb2-2a94-4961-f4a4-0e17c36c58e1"
      },
      "outputs": [
        {
          "name": "stderr",
          "output_type": "stream",
          "text": [
            "[nltk_data] Downloading package stopwords to /root/nltk_data...\n",
            "[nltk_data]   Unzipping corpora/stopwords.zip.\n",
            "[nltk_data] Downloading package punkt to /root/nltk_data...\n",
            "[nltk_data]   Unzipping tokenizers/punkt.zip.\n"
          ]
        },
        {
          "data": {
            "text/plain": [
              "True"
            ]
          },
          "execution_count": 6,
          "metadata": {},
          "output_type": "execute_result"
        }
      ],
      "source": [
        "#2 sec\n",
        "from collections import Counter\n",
        "import nltk\n",
        "#downloading stopwords and punkt\n",
        "nltk.download('stopwords')\n",
        "nltk.download('punkt')"
      ]
    },
    {
      "cell_type": "code",
      "execution_count": null,
      "metadata": {
        "colab": {
          "base_uri": "https://localhost:8080/"
        },
        "id": "zT6N1iiOlkbZ",
        "outputId": "80cfd888-e06f-4c9a-a719-25fb82149710"
      },
      "outputs": [
        {
          "name": "stdout",
          "output_type": "stream",
          "text": [
            "Real News: [('said', 1016), ('india', 820), ('new', 513), ('march', 508), ('also', 408), ('crore', 367), ('per', 362), ('e', 336), ('delhi', 303), ('would', 283)]\n",
            "Fake News: [('trump', 74241), ('said', 31149), ('people', 26015), ('president', 25772), ('would', 23461), ('one', 22995), ('clinton', 18085), ('obama', 17920), ('like', 17660), ('donald', 17235)]\n"
          ]
        }
      ],
      "source": [
        "# 2 min\n",
        "def get_most_common_words(texts, num_words=10):\n",
        "    all_words = []\n",
        "    for text in texts:\n",
        "        all_words.extend(nltk.word_tokenize(text.lower()))\n",
        "    stop_words = set(nltk.corpus.stopwords.words('english'))\n",
        "    words = [word for word in all_words if word.isalpha() and word not in stop_words]\n",
        "    word_counts = Counter(words)\n",
        "    return word_counts.most_common(num_words)\n",
        "\n",
        "real_words = get_most_common_words(real_news['text'])\n",
        "fake_words = get_most_common_words(fake_news['text'])\n",
        "\n",
        "print('Real News:', real_words)\n",
        "print('Fake News:', fake_words)"
      ]
    },
    {
      "cell_type": "code",
      "execution_count": null,
      "metadata": {
        "colab": {
          "base_uri": "https://localhost:8080/"
        },
        "id": "mylPMEyslzpt",
        "outputId": "9a6ec262-5b10-4b9e-ef1a-3cb798a76848"
      },
      "outputs": [
        {
          "name": "stderr",
          "output_type": "stream",
          "text": [
            "[nltk_data] Downloading package wordnet to /root/nltk_data...\n"
          ]
        },
        {
          "data": {
            "text/plain": [
              "True"
            ]
          },
          "execution_count": 8,
          "metadata": {},
          "output_type": "execute_result"
        }
      ],
      "source": [
        "#1 sec\n",
        "from nltk.corpus import stopwords\n",
        "from nltk.tokenize import word_tokenize\n",
        "from nltk.stem import PorterStemmer, WordNetLemmatizer\n",
        "import string\n",
        "\n",
        "nltk.download('wordnet')"
      ]
    },
    {
      "cell_type": "code",
      "execution_count": null,
      "metadata": {
        "colab": {
          "background_save": true
        },
        "id": "x5HmEuEAl2Qu"
      },
      "outputs": [],
      "source": [
        "#5 min\n",
        "stop_words = set(stopwords.words('english'))\n",
        "stemmer = PorterStemmer()\n",
        "lemmatizer = WordNetLemmatizer()\n",
        "\n",
        "def preprocess_text(text):\n",
        "    # Lowercase the text\n",
        "    text = text.lower()\n",
        "\n",
        "    # Remove punctuation and digits\n",
        "    text = text.translate(str.maketrans('', '', string.punctuation + string.digits))\n",
        "\n",
        "    # Tokenize the text\n",
        "    words = word_tokenize(text)\n",
        "\n",
        "    # Remove stop words\n",
        "    words = [word for word in words if word not in stop_words]\n",
        "\n",
        "    # Stem or lemmatize the words\n",
        "    words = [stemmer.stem(word) for word in words]\n",
        "\n",
        "        # Join the words back into a string\n",
        "    text = ' '.join(words)\n",
        "\n",
        "    return text\n",
        "\n",
        "real_news['text'] = real_news['text'].apply(preprocess_text)\n",
        "fake_news['text'] = fake_news['text'].apply(preprocess_text)"
      ]
    },
    {
      "cell_type": "code",
      "execution_count": null,
      "metadata": {
        "id": "uXaguwVol44S"
      },
      "outputs": [],
      "source": [
        "#13 sec\n",
        "from sklearn.feature_extraction.text import CountVectorizer\n",
        "import scipy.sparse as sp\n",
        "import numpy as np\n",
        "\n",
        "vectorizer = CountVectorizer()\n",
        "X_real = vectorizer.fit_transform(real_news['text'])\n",
        "X_fake = vectorizer.transform(fake_news['text'])\n",
        "\n",
        "X = sp.vstack([X_real, X_fake])\n",
        "y = np.concatenate([np.ones(X_real.shape[0]), np.zeros(X_fake.shape[0])])"
      ]
    },
    {
      "cell_type": "code",
      "execution_count": null,
      "metadata": {
        "id": "3X2Axbp1l7El"
      },
      "outputs": [],
      "source": [
        "#0 sec\n",
        "from sklearn.model_selection import train_test_split\n",
        "\n",
        "X_train, X_test, y_train, y_test = train_test_split(X, y, test_size=0.2, random_state=42)"
      ]
    },
    {
      "cell_type": "code",
      "execution_count": null,
      "metadata": {
        "id": "PC_cdS4_l-48"
      },
      "outputs": [],
      "source": [
        "#13 sec\n",
        "from sklearn.linear_model import LogisticRegression\n",
        "\n",
        "# Increase max_iter and set solver to 'lbfgs' explicitly\n",
        "clf = LogisticRegression(random_state=42, solver='lbfgs', max_iter=1000)\n",
        "clf.fit(X_train, y_train)"
      ]
    },
    {
      "cell_type": "code",
      "execution_count": null,
      "metadata": {
        "id": "I0P8w1A_mDh-"
      },
      "outputs": [],
      "source": [
        "#0 sec\n",
        "from sklearn.metrics import accuracy_score, precision_score, recall_score, f1_score\n",
        "\n",
        "y_pred = clf.predict(X_test)\n",
        "\n",
        "accuracy = accuracy_score(y_test, y_pred)\n",
        "precision = precision_score(y_test, y_pred)\n",
        "recall = recall_score(y_test, y_pred)\n",
        "f1 = f1_score(y_test, y_pred)\n",
        "\n",
        "print('Accuracy:', accuracy)\n",
        "print('Precision:', precision)\n",
        "print('Recall:', recall)\n",
        "print('F1 Score:', f1)"
      ]
    },
    {
      "cell_type": "code",
      "execution_count": null,
      "metadata": {
        "id": "yaCpwuQOmJQx"
      },
      "outputs": [],
      "source": [
        "#27 min\n",
        "from sklearn.naive_bayes import MultinomialNB\n",
        "from sklearn.linear_model import LogisticRegression\n",
        "from sklearn.svm import SVC\n",
        "# Define a function to train and evaluate a model\n",
        "def train_and_evaluate_model(model, X_train, y_train, X_test, y_test):\n",
        "    # Train the model on the training data\n",
        "    model.fit(X_train, y_train)\n",
        "\n",
        "    # Predict the labels for the testing data\n",
        "    y_pred = model.predict(X_test)\n",
        "\n",
        "    # Evaluate the model\n",
        "    accuracy = accuracy_score(y_test, y_pred)\n",
        "    precision = precision_score(y_test, y_pred, average='weighted')\n",
        "    recall = recall_score(y_test, y_pred, average='weighted')\n",
        "    f1 = f1_score(y_test, y_pred, average='weighted')\n",
        "\n",
        "    # Print the evaluation metrics\n",
        "    print(f\"Accuracy: {accuracy:.4f}\")\n",
        "    print(f\"Precision: {precision:.4f}\")\n",
        "    print(f\"Recall: {recall:.4f}\")\n",
        "    print(f\"F1-score: {f1:.4f}\")\n",
        "# Train and evaluate a Multinomial Naive Bayes model\n",
        "print(\"Training and evaluating Multinomial Naive Bayes model...\")\n",
        "nb = MultinomialNB()\n",
        "train_and_evaluate_model(nb, X_train, y_train, X_test, y_test)\n",
        "print()\n",
        "\n",
        "# Train and evaluate a Support Vector Machine model\n",
        "print(\"Training and evaluating Support Vector Machine model...\")\n",
        "svm = SVC()\n",
        "train_and_evaluate_model(svm,  X_train, y_train, X_test, y_test)"
      ]
    },
    {
      "cell_type": "code",
      "execution_count": null,
      "metadata": {
        "id": "kD0qetJ5mMS4"
      },
      "outputs": [],
      "source": [
        "#1 min\n",
        "from sklearn.model_selection import GridSearchCV\n",
        "\n",
        "# Define a list of hyperparameters to search over\n",
        "hyperparameters = {\n",
        "    'penalty': ['l2'],\n",
        "    'C': [0.1, 1, 10, 100],\n",
        "    'solver': ['lbfgs']\n",
        "}\n",
        "\n",
        "# Perform grid search to find the best hyperparameters\n",
        "grid_search = GridSearchCV(LogisticRegression(max_iter=1000), hyperparameters, cv=3)\n",
        "grid_search.fit(X_train, y_train)\n",
        "655\n",
        "# Print the best hyperparameters and test accuracy\n",
        "print('Best hyperparameters:', grid_search.best_params_)\n",
        "print('Test accuracy:', grid_search.score(X_test, y_test))\n",
        "print(\"Done\")"
      ]
    },
    {
      "cell_type": "code",
      "execution_count": null,
      "metadata": {
        "id": "gZ6KDuyTmF8t"
      },
      "outputs": [],
      "source": [
        "#0 sec\n",
        "from joblib import dump\n",
        "\n",
        "dump(clf, 'model.joblib')\n",
        "dump(vectorizer, 'vectorizer.joblib')"
      ]
    },
    {
      "cell_type": "code",
      "execution_count": null,
      "metadata": {
        "id": "Rm3XX5tBmSij"
      },
      "outputs": [],
      "source": [
        "#for colab\n",
        "from flask import Flask, request, render_template\n",
        "from joblib import load\n",
        "from nltk.corpus import stopwords\n",
        "from nltk.tokenize import word_tokenize\n",
        "from nltk.stem import PorterStemmer, WordNetLemmatizer\n",
        "import string\n",
        "\n",
        "# Download NLTK data\n",
        "import nltk\n",
        "nltk.download('punkt')\n",
        "nltk.download('stopwords')\n",
        "\n",
        "# Initialize NLTK components\n",
        "stop_words = set(stopwords.words('english'))\n",
        "stemmer = PorterStemmer()\n",
        "\n",
        "# Load the pre-trained model and vectorizer\n",
        "clf = load('model.joblib')\n",
        "vectorizer = load('vectorizer.joblib')\n",
        "\n",
        "# Define the preprocess_text function\n",
        "def preprocess_text(text):\n",
        "    # Lowercase the text\n",
        "    text = text.lower()\n",
        "\n",
        "    # Remove punctuation and digits\n",
        "    text = text.translate(str.maketrans('', '', string.punctuation + string.digits))\n",
        "\n",
        "    # Tokenize the text\n",
        "    words = word_tokenize(text)\n",
        "\n",
        "    # Remove stop words\n",
        "    words = [word for word in words if word not in stop_words]\n",
        "\n",
        "    # Stem the words\n",
        "    words = [stemmer.stem(word) for word in words]\n",
        "\n",
        "    # Join the words back into a string\n",
        "    text = ' '.join(words)\n",
        "\n",
        "    return text\n",
        "\n",
        "# Initialize Flask app\n",
        "app = Flask(__name__)\n",
        "\n",
        "# Define the home route\n",
        "@app.route('/')\n",
        "def home():\n",
        "    return render_template('home.html')\n",
        "\n",
        "# Define the prediction route\n",
        "@app.route('/predict', methods=['POST'])\n",
        "def predict():\n",
        "    text = request.form['text']\n",
        "    preprocessed_text = preprocess_text(text)\n",
        "    X = vectorizer.transform([preprocessed_text])\n",
        "    y_pred = clf.predict(X)\n",
        "    result = 'real' if y_pred[0] == 1 else 'fake'\n",
        "    return render_template('result.html', result=result, text=text)\n",
        "\n",
        "# Run the Flask app\n",
        "app.run(host='localhost', port=8080, threaded=True)\n"
      ]
    }
  ],
  "metadata": {
    "colab": {
      "provenance": [],
      "authorship_tag": "ABX9TyMMMv7dpPmEzZAl+ezWlm20",
      "include_colab_link": true
    },
    "kernelspec": {
      "display_name": "Python 3",
      "name": "python3"
    },
    "language_info": {
      "name": "python"
    }
  },
  "nbformat": 4,
  "nbformat_minor": 0
}